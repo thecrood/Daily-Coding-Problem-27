{
 "cells": [
  {
   "cell_type": "markdown",
   "id": "70e3eceb",
   "metadata": {},
   "source": [
    "# Daily Coding Problem 27"
   ]
  },
  {
   "cell_type": "raw",
   "id": "12dde39a",
   "metadata": {},
   "source": [
    "This problem was asked by Facebook.\n",
    "\n",
    "Given a string of round, curly, and square open and closing brackets, return whether the brackets are balanced (well-formed).\n",
    "\n",
    "For example, given the string \"([])[]({})\", you should return true.\n",
    "\n",
    "Given the string \"([)]\" or \"((()\", you should return false."
   ]
  },
  {
   "cell_type": "markdown",
   "id": "2e640724",
   "metadata": {},
   "source": [
    "# Solution\n",
    "\n",
    "In this case, it's easy to start with a simplified case of the problem, which is dealing with only round brackets. Notice that in this case, we just need to keep track of the current number of open brackets -- each closing bracket should be matched with the rightmost open bracket. So we can keep a counter and increment it for every open bracket we see and decrement it on every closing bracket. If we get to the end of the string and have a non-zero number, then it means it's unbalanced. A negative number would indicate more closing brackets than open ones, and a positive number would indicate the opposite.\n",
    "\n",
    "In the case of round, curly, and square brackets, we need to also keep track of what kind of brackets they are as well, because we can't match a round open bracket with a curly square. In this case, we can use a stack to keep track of the actual bracket character and push onto it whenever we encounter an open bracket, and pop if we encounter a matching closing bracket to the top of the stack. If the stack is empty or it's not the correct matching bracket, then we'll return false. If, by the end of the iteration, we have something left over in the stack, then it means it's unbalanced -- so we'll return whether it's empty or not."
   ]
  },
  {
   "cell_type": "code",
   "execution_count": 1,
   "id": "6a6b03e6",
   "metadata": {},
   "outputs": [
    {
     "name": "stdout",
     "output_type": "stream",
     "text": [
      "True\n"
     ]
    }
   ],
   "source": [
    "def balance(s):\n",
    "    stack = []\n",
    "    for char in s:\n",
    "        if char in [\"(\", \"[\", \"{\"]:\n",
    "            stack.append(char)\n",
    "        else:\n",
    "            # Check character is not unmatched\n",
    "            if not stack:\n",
    "                return False\n",
    "\n",
    "            # Char is a closing bracket, check top of stack if it matches\n",
    "            if (char == \")\" and stack[-1] != \"(\") or \\\n",
    "               (char == \"]\" and stack[-1] != \"[\") or \\\n",
    "               (char == \"}\" and stack[-1] != \"{\"):\n",
    "                return False\n",
    "            stack.pop()\n",
    "\n",
    "    return len(stack) == 0\n",
    "    \n",
    "print(balance('([])[]({})'))\n"
   ]
  },
  {
   "cell_type": "code",
   "execution_count": 2,
   "id": "7adebeba",
   "metadata": {},
   "outputs": [
    {
     "name": "stdout",
     "output_type": "stream",
     "text": [
      "False\n"
     ]
    }
   ],
   "source": [
    "print(balance('([)]'))"
   ]
  },
  {
   "cell_type": "code",
   "execution_count": null,
   "id": "bcd12ac6",
   "metadata": {},
   "outputs": [],
   "source": []
  }
 ],
 "metadata": {
  "kernelspec": {
   "display_name": "Python 3 (ipykernel)",
   "language": "python",
   "name": "python3"
  },
  "language_info": {
   "codemirror_mode": {
    "name": "ipython",
    "version": 3
   },
   "file_extension": ".py",
   "mimetype": "text/x-python",
   "name": "python",
   "nbconvert_exporter": "python",
   "pygments_lexer": "ipython3",
   "version": "3.8.10"
  }
 },
 "nbformat": 4,
 "nbformat_minor": 5
}
